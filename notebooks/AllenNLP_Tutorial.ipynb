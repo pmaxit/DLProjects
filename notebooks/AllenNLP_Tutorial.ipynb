{
 "cells": [
  {
   "cell_type": "code",
   "execution_count": 2,
   "id": "previous-membrane",
   "metadata": {},
   "outputs": [],
   "source": [
    "import pytorch_lightning as pl"
   ]
  },
  {
   "cell_type": "code",
   "execution_count": 55,
   "id": "declared-cannon",
   "metadata": {},
   "outputs": [],
   "source": [
    "import json\n",
    "from typing import Iterator, List, Dict, Optional\n",
    "import torch\n",
    "import torch.optim as optim\n",
    "import torch.nn.functional as F\n",
    "import numpy as np\n",
    "\n",
    "# for dataset reader\n",
    "from allennlp.data.data_loaders import MultiProcessDataLoader, SimpleDataLoader\n",
    "from allennlp.data import DataLoader, DatasetReader, Instance, Vocabulary\n",
    "from allennlp.data.batch import Batch\n",
    "from allennlp.data.fields import TextField, SequenceLabelField, LabelField\n",
    "from allennlp.data.dataset_readers import DatasetReader\n",
    "from allennlp.common.file_utils import cached_path\n",
    "from allennlp.data.token_indexers import TokenIndexer, SingleIdTokenIndexer\n",
    "from allennlp.data.tokenizers import Token, Tokenizer, SpacyTokenizer\n",
    "from allennlp.data.vocabulary import Vocabulary\n",
    "\n",
    "# read pretrained embedding from AWS S3\n",
    "from allennlp.modules.token_embedders.embedding import _read_embeddings_from_text_file\n",
    "\n",
    "# for building model\n",
    "from allennlp.models import Model\n",
    "from allennlp.modules.text_field_embedders import TextFieldEmbedder, BasicTextFieldEmbedder\n",
    "from allennlp.modules.token_embedders import Embedding\n",
    "from allennlp.modules.seq2vec_encoders import Seq2VecEncoder, PytorchSeq2VecWrapper\n",
    "from allennlp.modules.seq2seq_encoders import Seq2SeqEncoder, PytorchSeq2SeqWrapper\n",
    "from allennlp.modules import FeedForward\n",
    "from allennlp.nn.util import get_text_field_mask, sequence_cross_entropy_with_logits\n",
    "from allennlp.nn import InitializerApplicator, RegularizerApplicator\n",
    "from allennlp.training.metrics import CategoricalAccuracy\n",
    "from allennlp.training.trainer import Trainer"
   ]
  },
  {
   "cell_type": "markdown",
   "id": "vertical-complement",
   "metadata": {},
   "source": [
    "# Create classes for model\n",
    "\n",
    "Generally, we need to implement 2 classes for AllenNLP including\n",
    "* DataReader: To read dataset and return Instance class\n",
    "* Model: Input instance class and output prediction"
   ]
  },
  {
   "cell_type": "code",
   "execution_count": 310,
   "id": "persistent-machinery",
   "metadata": {},
   "outputs": [],
   "source": [
    "class PublicationDatasetReader(DatasetReader):\n",
    "    ''' Dataset Reader for publication and venue dataset '''\n",
    "    def __init__(self, tokenizer: Tokenizer = None, token_indexers: Dict[str, TokenIndexer]= None,**kwargs):\n",
    "        super().__init__(**kwargs)\n",
    "        self._tokenizer = tokenizer or SpacyTokenizer()\n",
    "        self._token_indexers = token_indexers or {'tokens': SingleIdTokenIndexer()}\n",
    "        \n",
    "    def _read(self, file_path: str) -> Iterator[Instance]:\n",
    "        \"\"\" Read publication and venue dataset in JSON format in Lazy manner. It yields the generator\n",
    "            Data is in the following format:\n",
    "                {'title': ... 'paperAbstract': ... 'venue': ...}\n",
    "        \"\"\"\n",
    "        instances = []\n",
    "        with open(cached_path(file_path),'r') as data_file:\n",
    "            for line in data_file:\n",
    "                line = line.strip('\\n')\n",
    "                if not line:\n",
    "                    continue\n",
    "                paper_json = json.loads(line)\n",
    "                title = paper_json['title']\n",
    "                abstract = paper_json['paperAbstract']\n",
    "                venue = paper_json['venue']\n",
    "                \n",
    "                yield self.text_to_instance(title, abstract, venue)\n",
    "        \n",
    "    def text_to_instance(self, \n",
    "                        title: str,\n",
    "                        abstract: str,\n",
    "                        venue: str = None)-> Instance:\n",
    "        \n",
    "            \"\"\" Turn title, abstract and venue to Instance \"\"\"\n",
    "            tokenized_title = self._tokenizer.tokenize(title)\n",
    "            tokenized_abstract = self._tokenizer.tokenize(abstract)\n",
    "            title_field = TextField(tokenized_title, self._token_indexers)\n",
    "            abstract_field = TextField(tokenized_abstract, self._token_indexers)\n",
    "            \n",
    "            fields = {'title': title_field,\n",
    "                        'abstract': abstract_field\n",
    "                     }\n",
    "            \n",
    "            if venue is not None:\n",
    "                fields['label'] = LabelField(venue)\n",
    "            return Instance(fields)"
   ]
  },
  {
   "cell_type": "markdown",
   "id": "italic-degree",
   "metadata": {},
   "source": [
    "# Read dataset"
   ]
  },
  {
   "cell_type": "markdown",
   "id": "behavioral-gibson",
   "metadata": {},
   "source": [
    "* Cached_path can cache the file locally\n",
    "* BasicTextFileEmbedder takes a mapping from index names to embeddings"
   ]
  },
  {
   "cell_type": "code",
   "execution_count": 311,
   "id": "quantitative-serial",
   "metadata": {},
   "outputs": [],
   "source": [
    "train_data_path = \"https://s3-us-west-2.amazonaws.com/allennlp/datasets/academic-papers-example/train.jsonl\"\n",
    "validation_data_path = \"https://s3-us-west-2.amazonaws.com/allennlp/datasets/academic-papers-example/dev.jsonl\"\n",
    "pretrained_file = \"https://s3-us-west-2.amazonaws.com/allennlp/datasets/glove/glove.6B.100d.txt.gz\""
   ]
  },
  {
   "cell_type": "code",
   "execution_count": 314,
   "id": "potential-sapphire",
   "metadata": {},
   "outputs": [
    {
     "data": {
      "application/vnd.jupyter.widget-view+json": {
       "model_id": "d2bb1fc48e2c40d18bdcba4296a53f00",
       "version_major": 2,
       "version_minor": 0
      },
      "text/plain": [
       "HBox(children=(FloatProgress(value=1.0, bar_style='info', description='building vocab', layout=Layout(width='2…"
      ]
     },
     "metadata": {},
     "output_type": "display_data"
    },
    {
     "name": "stderr",
     "output_type": "stream",
     "text": [
      "\n"
     ]
    },
    {
     "data": {
      "application/vnd.jupyter.widget-view+json": {
       "model_id": "bf83ecf9fcd241e3939251f63dbcafd6",
       "version_major": 2,
       "version_minor": 0
      },
      "text/plain": [
       "HBox(children=(FloatProgress(value=1.0, bar_style='info', layout=Layout(width='20px'), max=1.0), HTML(value=''…"
      ]
     },
     "metadata": {},
     "output_type": "display_data"
    },
    {
     "name": "stderr",
     "output_type": "stream",
     "text": [
      "\n"
     ]
    }
   ],
   "source": [
    "reader = PublicationDatasetReader()\n",
    "\n",
    "train_dataset= reader.read(train_data_path)\n",
    "validation_dataset = reader.read(validation_data_path)\n",
    "\n",
    "# building vocabulary\n",
    "vocab = Vocabulary.from_instances(train_dataset)\n",
    "vocab.extend_from_instances(validation_dataset)"
   ]
  },
  {
   "cell_type": "code",
   "execution_count": 351,
   "id": "charged-sweden",
   "metadata": {},
   "outputs": [],
   "source": [
    "class AcademicPaperClassifier(pl.LightningModule):\n",
    "    \"\"\" Model to classify venue based on input title and abstract \"\"\"\n",
    "    def __init__(self, vocab, learning_rate=0.005, embedding_dim=100, hidden_dim= 100, batch_size=4) ->None:\n",
    "        super().__init__()\n",
    "        self.learning_rate = learning_rate\n",
    "        self.embedding_dim = embedding_dim\n",
    "        self.hidden_dim = hidden_dim\n",
    "        self.vocab = vocab\n",
    "        self.batch_size = batch_size\n",
    "        \n",
    "        # reader\n",
    "        self.reader = PublicationDatasetReader()\n",
    "        \n",
    "        # model will be created under create_model from `setup`\n",
    "        num_classes = vocab.get_vocab_size('labels')\n",
    "        vocab_length = vocab.get_vocab_size('tokens')\n",
    "        \n",
    "        token_embedding = Embedding(num_embeddings=vocab_length, \n",
    "                            embedding_dim=self.embedding_dim)\n",
    "        \n",
    "        self.text_field_embedder = BasicTextFieldEmbedder({\"tokens\": token_embedding})\n",
    "        self.title_encoder = PytorchSeq2VecWrapper(torch.nn.LSTM(self.embedding_dim, self.hidden_dim, \n",
    "                                                 batch_first=True, bidirectional=True))\n",
    "        self.abstract_encoder = PytorchSeq2VecWrapper(torch.nn.LSTM(self.embedding_dim, self.hidden_dim, \n",
    "                                                    batch_first=True, bidirectional=True))\n",
    "        \n",
    "        self.classifier_feedforward = torch.nn.Linear(2 * 2 * self.hidden_dim, num_classes)\n",
    "\n",
    "        self.loss = torch.nn.CrossEntropyLoss()\n",
    "        \n",
    "        self.metrics = {\n",
    "            'accuracy': CategoricalAccuracy(),\n",
    "            'accuracy3': CategoricalAccuracy(top_k=3)\n",
    "        }\n",
    "        self.save_hyperparameters()\n",
    "        \n",
    "    def prepare_data(self):\n",
    "        self.train_data_path = \"https://s3-us-west-2.amazonaws.com/allennlp/datasets/academic-papers-example/train.jsonl\"\n",
    "        self.validation_data_path = \"https://s3-us-west-2.amazonaws.com/allennlp/datasets/academic-papers-example/dev.jsonl\"\n",
    "        self.pretrained_file = \"https://s3-us-west-2.amazonaws.com/allennlp/datasets/glove/glove.6B.100d.txt.gz\"\n",
    "        \n",
    "    def setup1(self, stage=None):\n",
    "        # create vocabulary\n",
    "        \n",
    "        train_dataset = self.reader.read(self.train_data_path)\n",
    "        validation_dataset = self.reader.read(self.validation_data_path)\n",
    "        \n",
    "        \n",
    "        # need to create vocabulary before\n",
    "        self.vocab = Vocabulary.from_instances(train_dataset)\n",
    "        self.vocab.extend_from_instances(validation_dataset)\n",
    "        \n",
    "    \n",
    "    def train_dataloader(self):\n",
    "        # use train dataset to create batches\n",
    "        train_dl = MultiProcessDataLoader(self.reader, \n",
    "                                          data_path = self.train_data_path, \n",
    "                                          batch_size=self.batch_size, \n",
    "                                          shuffle=True,\n",
    "                                         max_instances_in_memory=self.batch_size,\n",
    "                                         num_workers=8)\n",
    "        train_dl.index_with(vocab)\n",
    "        return train_dl\n",
    "    \n",
    "    def val_dataloader(self):\n",
    "        data_loader = MultiProcessDataLoader(self.reader, self.validation_data_path, batch_size=self.batch_size, shuffle=False,\n",
    "                                            max_instances_in_memory=self.batch_size,num_workers=8)\n",
    "        data_loader.index_with(vocab)\n",
    "        return data_loader\n",
    "        \n",
    "    def forward(self,\n",
    "               title: Dict[str, torch.LongTensor], \n",
    "               abstract: Dict[str, torch.LongTensor],\n",
    "               label: torch.LongTensor = None)-> Dict[str, torch.Tensor]:\n",
    "        \n",
    "        embedded_title = self.text_field_embedder(title)\n",
    "        title_mask = get_text_field_mask(title)\n",
    "        \n",
    "        encoded_title = self.title_encoder(embedded_title, title_mask)\n",
    "        \n",
    "        embedded_abstract = self.text_field_embedder(abstract)\n",
    "        abstract_mask = get_text_field_mask(abstract)\n",
    "        encoded_abstract = self.abstract_encoder(embedded_abstract, abstract_mask)\n",
    "        logits = self.classifier_feedforward(torch.cat([encoded_title, encoded_abstract],dim=-1))\n",
    "        class_probabilities = F.softmax(logits, dim=-1)\n",
    "        argmax_indices = np.argmax(class_probabilities.cpu().data.numpy(), axis=-1)\n",
    "        labels = [self.vocab.get_token_from_index(x, namespace='labels') for x in argmax_indices]\n",
    "        output_dict = {\n",
    "            'logits': logits,\n",
    "            'class_prob': class_probabilities,\n",
    "            'predicted_label': labels\n",
    "        }\n",
    "        \n",
    "        if label is not None:\n",
    "            loss = self.loss(logits, label)\n",
    "            for name, metric in self.metrics.items():\n",
    "                metric(logits, label)\n",
    "                output_dict[name] = metric.get_metric()\n",
    "                \n",
    "            output_dict['loss'] = loss\n",
    "            \n",
    "        return output_dict\n",
    "    \n",
    "    def training_step(self, batch, batch_idx):\n",
    "        output = self.forward(**batch)\n",
    "        return output\n",
    "    def validation_step(self, batch, batch_idx):\n",
    "        output = self.forward(**batch)\n",
    "        output['val_loss'] = output['loss']\n",
    "        del output['loss']\n",
    "        return output\n",
    "    \n",
    "    def configure_optimizers(self):\n",
    "        return optim.SGD(self.parameters(), lr=self.learning_rate)\n",
    "        "
   ]
  },
  {
   "cell_type": "code",
   "execution_count": 352,
   "id": "exciting-idaho",
   "metadata": {},
   "outputs": [
    {
     "name": "stderr",
     "output_type": "stream",
     "text": [
      "GPU available: False, used: False\n",
      "TPU available: False, using: 0 TPU cores\n",
      "\n",
      "  | Name                   | Type                   | Params\n",
      "------------------------------------------------------------------\n",
      "0 | text_field_embedder    | BasicTextFieldEmbedder | 6.4 M \n",
      "1 | title_encoder          | PytorchSeq2VecWrapper  | 161 K \n",
      "2 | abstract_encoder       | PytorchSeq2VecWrapper  | 161 K \n",
      "3 | classifier_feedforward | Linear                 | 1.2 K \n",
      "4 | loss                   | CrossEntropyLoss       | 0     \n",
      "------------------------------------------------------------------\n",
      "6.7 M     Trainable params\n",
      "0         Non-trainable params\n",
      "6.7 M     Total params\n",
      "26.869    Total estimated model params size (MB)\n"
     ]
    },
    {
     "data": {
      "application/vnd.jupyter.widget-view+json": {
       "model_id": "",
       "version_major": 2,
       "version_minor": 0
      },
      "text/plain": [
       "HBox(children=(FloatProgress(value=1.0, bar_style='info', description='Validation sanity check', layout=Layout…"
      ]
     },
     "metadata": {},
     "output_type": "display_data"
    },
    {
     "data": {
      "application/vnd.jupyter.widget-view+json": {
       "model_id": "1cc9181678814a8ea3128b26b39554da",
       "version_major": 2,
       "version_minor": 0
      },
      "text/plain": [
       "HBox(children=(FloatProgress(value=1.0, bar_style='info', description='loading instances', layout=Layout(width…"
      ]
     },
     "metadata": {},
     "output_type": "display_data"
    },
    {
     "name": "stderr",
     "output_type": "stream",
     "text": [
      "\n"
     ]
    },
    {
     "data": {
      "application/vnd.jupyter.widget-view+json": {
       "model_id": "0a434e71f8104397b00ff2920c245957",
       "version_major": 2,
       "version_minor": 0
      },
      "text/plain": [
       "HBox(children=(FloatProgress(value=1.0, bar_style='info', description='Training', layout=Layout(flex='2'), max…"
      ]
     },
     "metadata": {},
     "output_type": "display_data"
    },
    {
     "data": {
      "application/vnd.jupyter.widget-view+json": {
       "model_id": "f559f027cdbb47c3aa90c3f10af9fa09",
       "version_major": 2,
       "version_minor": 0
      },
      "text/plain": [
       "HBox(children=(FloatProgress(value=1.0, bar_style='info', description='loading instances', layout=Layout(width…"
      ]
     },
     "metadata": {},
     "output_type": "display_data"
    },
    {
     "name": "stderr",
     "output_type": "stream",
     "text": [
      "\n"
     ]
    },
    {
     "name": "stdout",
     "output_type": "stream",
     "text": [
      "\n"
     ]
    },
    {
     "data": {
      "text/plain": [
       "1"
      ]
     },
     "execution_count": 352,
     "metadata": {},
     "output_type": "execute_result"
    }
   ],
   "source": [
    "trainer = pl.Trainer(fast_dev_run=False)\n",
    "model = AcademicPaperClassifier(vocab=vocab)\n",
    "\n",
    "trainer.fit(model)"
   ]
  },
  {
   "cell_type": "code",
   "execution_count": null,
   "id": "organizational-mixer",
   "metadata": {},
   "outputs": [],
   "source": []
  }
 ],
 "metadata": {
  "kernelspec": {
   "display_name": "Python 3",
   "language": "python",
   "name": "python3"
  },
  "language_info": {
   "codemirror_mode": {
    "name": "ipython",
    "version": 3
   },
   "file_extension": ".py",
   "mimetype": "text/x-python",
   "name": "python",
   "nbconvert_exporter": "python",
   "pygments_lexer": "ipython3",
   "version": "3.9.2"
  }
 },
 "nbformat": 4,
 "nbformat_minor": 5
}
