{
 "cells": [
  {
   "cell_type": "code",
   "execution_count": null,
   "id": "bright-mongolia",
   "metadata": {},
   "outputs": [],
   "source": [
    "#default_exp seq2seq.namegen"
   ]
  },
  {
   "cell_type": "markdown",
   "id": "apart-gregory",
   "metadata": {},
   "source": [
    "# Import\n"
   ]
  },
  {
   "cell_type": "code",
   "execution_count": null,
   "id": "growing-factor",
   "metadata": {},
   "outputs": [],
   "source": [
    "#export\n",
    "from typing import List\n",
    "from fastai.text.all import *\n",
    "from dotmap import DotMap\n",
    "import pytorch_lightning as pl\n",
    "from pytorch_lightning.callbacks.early_stopping import EarlyStopping\n",
    "\n",
    "device = torch.device(\"cuda\" if torch.cuda.is_available() else \"cpu\")\n"
   ]
  },
  {
   "cell_type": "markdown",
   "id": "ruled-departure",
   "metadata": {},
   "source": [
    "# Dataset\n",
    "\n",
    "Creating dataset from names list"
   ]
  },
  {
   "cell_type": "code",
   "execution_count": null,
   "id": "photographic-taste",
   "metadata": {},
   "outputs": [],
   "source": [
    "#export \n",
    "def get_dataset(names_list: List[str])-> Datasets:\n",
    "    src_tfms = [lambda x: ['xxbos'] + list(x), Numericalize()]\n",
    "    len_tfms = [lambda x: torch.tensor(len(x)+1, dtype=torch.int32)]\n",
    "    #tgt_tfms = [lambda x: list(x)[1:]]\n",
    "\n",
    "    dsrc = Datasets(names_list, tfms=[src_tfms, len_tfms], splits=RandomSplitter(valid_pct=0.1)(names_list))\n",
    "    return dsrc"
   ]
  },
  {
   "cell_type": "code",
   "execution_count": null,
   "id": "comic-holly",
   "metadata": {},
   "outputs": [],
   "source": [
    "file_lists=['/notebooks/nlp_deeplearning/charmodel/data/first_names.all.txt']\n",
    "\n",
    "names_list = []\n",
    "with open(file_lists[0],'r') as file:\n",
    "    for name in file.read().splitlines()[1:]:\n",
    "        filtered_name = re.sub(r'\\W+', '', name)\n",
    "        names_list.append(filtered_name.upper())"
   ]
  },
  {
   "cell_type": "code",
   "execution_count": null,
   "id": "ignored-tobago",
   "metadata": {},
   "outputs": [],
   "source": [
    "#export \n",
    "@ItemTransform\n",
    "def after_item(obj):\n",
    "    return (obj[0][:], obj[0][1:], obj[1])\n",
    "\n",
    "def pad_input_chunk_new(samples, n_inp=2,**kwargs):\n",
    "    \"Pad `samples` by adding padding by chunks of size `seq_len`\"\n",
    "    \n",
    "    max_len = max([len(s[n]) for s in samples for n in range(n_inp)])\n",
    "    padeds = [[pad_chunk(s[n],pad_len=max_len,**kwargs) for n in range(n_inp) ] for s in samples]\n",
    "    \n",
    "    return [(*p, *s[n_inp:]) for p, s in zip(padeds, samples)]"
   ]
  },
  {
   "cell_type": "markdown",
   "id": "latest-current",
   "metadata": {},
   "source": [
    "# Training"
   ]
  },
  {
   "cell_type": "markdown",
   "id": "induced-genesis",
   "metadata": {},
   "source": [
    "Here we'll define function to train the model. This will be an API to deal with user input too."
   ]
  },
  {
   "cell_type": "code",
   "execution_count": null,
   "id": "early-intention",
   "metadata": {},
   "outputs": [],
   "source": [
    "#export\n",
    "def train_from_scratch(names_list: List[str], hparams:DotMap):\n",
    "    dsrc = get_dataset(names_list)\n",
    "    dls = dsrc.dataloaders(after_item=after_item, before_batch=pad_input_chunk_new, bs=32, n_inp=2)\n",
    "\n",
    "    trainer = pl.Trainer(fast_dev_run=False, auto_lr_find='learning_rate',gpus=1,\n",
    "                    callbacks=[EarlyStopping(monitor='val_loss',patience=5)],\n",
    "                    )\n",
    "    return trainer\n",
    "\n",
    "@patch\n",
    "def gen_name(trainer:pl.Trainer, initial_char='A'):\n",
    "    model = trainer.model\n",
    "    model = model.to(device)\n",
    "    return model.generate(initial_char)"
   ]
  },
  {
   "cell_type": "code",
   "execution_count": null,
   "id": "convenient-hobby",
   "metadata": {},
   "outputs": [],
   "source": [
    "#export\n",
    "def load_from_checkpoint(trainer:pl.Trainer, checkpoint:str)->pl.Trainer:\n",
    "    # load from checkpoint\n",
    "    trainer.model.load_from_checkpoint('example.ckpt')\n",
    "    return trainer\n"
   ]
  },
  {
   "cell_type": "code",
   "execution_count": null,
   "id": "overhead-humanitarian",
   "metadata": {},
   "outputs": [
    {
     "name": "stdout",
     "output_type": "stream",
     "text": [
      "Converted model.ipynb.\n",
      "Converted namegen.ipynb.\n",
      "Converted run.ipynb.\n"
     ]
    }
   ],
   "source": [
    "\n",
    "from nbdev.export import notebook2script\n",
    "notebook2script()"
   ]
  }
 ],
 "metadata": {
  "kernelspec": {
   "display_name": "Python 3",
   "language": "python",
   "name": "python3"
  }
 },
 "nbformat": 4,
 "nbformat_minor": 5
}
