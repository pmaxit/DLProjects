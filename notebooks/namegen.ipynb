{
 "cells": [
  {
   "cell_type": "code",
   "execution_count": null,
   "id": "interstate-resource",
   "metadata": {},
   "outputs": [],
   "source": [
    "#default_exp seq2seq.namegen"
   ]
  },
  {
   "cell_type": "markdown",
   "id": "concrete-consultation",
   "metadata": {},
   "source": [
    "# Import\n"
   ]
  },
  {
   "cell_type": "code",
   "execution_count": null,
   "id": "sixth-responsibility",
   "metadata": {},
   "outputs": [],
   "source": [
    "#export\n",
    "from typing import List, Optional\n",
    "from fastai.text.all import *\n",
    "from dotmap import DotMap\n",
    "import pytorch_lightning as pl\n",
    "from pytorch_lightning.callbacks.early_stopping import EarlyStopping\n",
    "from torch import nn\n",
    "import torch\n",
    "\n",
    "device = torch.device(\"cuda\" if torch.cuda.is_available() else \"cpu\")\n"
   ]
  },
  {
   "cell_type": "code",
   "execution_count": null,
   "id": "frozen-commerce",
   "metadata": {},
   "outputs": [],
   "source": [
    "#export\n",
    "import sys\n",
    "sys.path.insert(0,'/notebooks/Projects/Seq2Seq')"
   ]
  },
  {
   "cell_type": "code",
   "execution_count": null,
   "id": "obvious-confusion",
   "metadata": {},
   "outputs": [],
   "source": [
    "#export\n",
    "from mllib.seq2seq.model import RNN"
   ]
  },
  {
   "cell_type": "markdown",
   "id": "located-apache",
   "metadata": {},
   "source": [
    "# Dataset\n",
    "\n",
    "Creating dataset from names list"
   ]
  },
  {
   "cell_type": "code",
   "execution_count": null,
   "id": "wrapped-infrared",
   "metadata": {},
   "outputs": [],
   "source": [
    "#export \n",
    "def get_dataset(names_list: List[str])-> Datasets:\n",
    "    src_tfms = [lambda x: ['xxbos'] + list(x), Numericalize()]\n",
    "    len_tfms = [lambda x: torch.tensor(len(x)+1, dtype=torch.int32)]\n",
    "    #tgt_tfms = [lambda x: list(x)[1:]]\n",
    "\n",
    "    dsrc = Datasets(names_list, tfms=[src_tfms, len_tfms], splits=RandomSplitter(valid_pct=0.1)(names_list))\n",
    "    return dsrc"
   ]
  },
  {
   "cell_type": "code",
   "execution_count": null,
   "id": "reduced-charge",
   "metadata": {},
   "outputs": [],
   "source": [
    "file_lists=['/notebooks/nlp_deeplearning/charmodel/data/first_names.all.txt']\n",
    "\n",
    "names_list = []\n",
    "with open(file_lists[0],'r') as file:\n",
    "    for name in file.read().splitlines()[1:]:\n",
    "        filtered_name = re.sub(r'\\W+', '', name)\n",
    "        names_list.append(filtered_name.upper())"
   ]
  },
  {
   "cell_type": "code",
   "execution_count": null,
   "id": "convinced-evans",
   "metadata": {},
   "outputs": [],
   "source": [
    "#export \n",
    "@ItemTransform\n",
    "def after_item(obj):\n",
    "    return (obj[0][:], obj[0][1:], obj[1])\n",
    "\n",
    "def pad_input_chunk_new(samples, n_inp=2,**kwargs):\n",
    "    \"Pad `samples` by adding padding by chunks of size `seq_len`\"\n",
    "    \n",
    "    max_len = max([len(s[n]) for s in samples for n in range(n_inp)])\n",
    "    padeds = [[pad_chunk(s[n],pad_len=max_len,**kwargs) for n in range(n_inp) ] for s in samples]\n",
    "    \n",
    "    return [(*p, *s[n_inp:]) for p, s in zip(padeds, samples)]"
   ]
  },
  {
   "cell_type": "markdown",
   "id": "about-street",
   "metadata": {},
   "source": [
    "# Training"
   ]
  },
  {
   "cell_type": "markdown",
   "id": "reserved-treasury",
   "metadata": {},
   "source": [
    "Here we'll define function to train the model. This will be an API to deal with user input too."
   ]
  },
  {
   "cell_type": "code",
   "execution_count": null,
   "id": "supposed-aircraft",
   "metadata": {},
   "outputs": [],
   "source": [
    "#export\n",
    "def train_from_scratch(names_list: List[str], hparams:DotMap):\n",
    "    dsrc = get_dataset(names_list)\n",
    "    dls = dsrc.dataloaders(after_item=after_item, before_batch=pad_input_chunk_new, bs=32, n_inp=2)\n",
    "\n",
    "    \n",
    "    # get the model\n",
    "    model = RNN(hparams, char2tensor = str(dict(dls.numericalize.o2i)), vocab=str(dls.numericalize.vocab))\n",
    "    checkpoint_callback = ModelCheckpoint(\n",
    "        dirpath = './checkpoints',\n",
    "        filename='{epoch}',\n",
    "        save_top_k=3,\n",
    "        monitor='val_loss',\n",
    "        mode='min'\n",
    "    )\n",
    "    trainer = pl.Trainer(fast_dev_run=False, auto_lr_find='learning_rate',gpus=1,\n",
    "                    callbacks=[EarlyStopping(monitor='val_loss',patience=5), checkpoint_callback],\n",
    "                    )\n",
    "    \n",
    "    \n",
    "    trainer.fit(model, dls.train, dls.valid)\n",
    "    \n",
    "    return trainer\n",
    "\n",
    "@patch\n",
    "def gen_name(model:nn.Module, initial_char='A'):\n",
    "    model = model.to(device)\n",
    "    return model.generate(initial_char)"
   ]
  },
  {
   "cell_type": "code",
   "execution_count": null,
   "id": "armed-aluminum",
   "metadata": {},
   "outputs": [],
   "source": [
    "#export\n",
    "def load_from_checkpoint(trainer:pl.Trainer, checkpoint:str)->pl.Trainer:\n",
    "    # load from checkpoint\n",
    "    trainer.model.load_from_checkpoint('example.ckpt')\n",
    "    return trainer\n",
    "\n",
    "\n",
    "def get_first_name_model(checkpoint:str=\"final_model.ckpt\"):\n",
    "\n",
    "    checkpoint = torch.load(checkpoint)\n",
    "    # get the model\n",
    "    \n",
    "    model = RNN(checkpoint['hyper_parameters']['hp'], \n",
    "                char2tensor = checkpoint['hyper_parameters']['char2tensor'], \n",
    "            vocab= checkpoint['hyper_parameters']['vocab'])\n",
    "    \n",
    "    model.load_state_dict(checkpoint['state_dict'])\n",
    "\n",
    "    model.eval()\n",
    "    \n",
    "    return model"
   ]
  },
  {
   "cell_type": "code",
   "execution_count": null,
   "id": "amber-asthma",
   "metadata": {},
   "outputs": [
    {
     "name": "stdout",
     "output_type": "stream",
     "text": [
      "Converted index.ipynb.\n",
      "Converted model.ipynb.\n",
      "Converted namegen.ipynb.\n",
      "Converted run.ipynb.\n"
     ]
    }
   ],
   "source": [
    "\n",
    "from nbdev.export import notebook2script\n",
    "notebook2script()"
   ]
  },
  {
   "cell_type": "code",
   "execution_count": null,
   "id": "terminal-surgery",
   "metadata": {},
   "outputs": [],
   "source": []
  }
 ],
 "metadata": {
  "kernelspec": {
   "display_name": "Python 3",
   "language": "python",
   "name": "python3"
  }
 },
 "nbformat": 4,
 "nbformat_minor": 5
}
