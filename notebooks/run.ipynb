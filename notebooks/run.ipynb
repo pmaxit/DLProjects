{
 "cells": [
  {
   "cell_type": "markdown",
   "id": "operational-layer",
   "metadata": {},
   "source": [
    "# Generating names dataset"
   ]
  },
  {
   "cell_type": "markdown",
   "id": "handled-cinema",
   "metadata": {},
   "source": [
    "Here we will generate names dataset. Names dataset is supposed to be list of names."
   ]
  },
  {
   "cell_type": "code",
   "execution_count": 1,
   "id": "hourly-whole",
   "metadata": {},
   "outputs": [],
   "source": [
    "%load_ext autoreload\n",
    "%autoreload 2"
   ]
  },
  {
   "cell_type": "code",
   "execution_count": 83,
   "id": "compact-sight",
   "metadata": {},
   "outputs": [],
   "source": [
    "import re\n",
    "from pytorch_lightning.callbacks.early_stopping import EarlyStopping\n",
    "import matplotlib.pyplot as plt\n",
    "import matplotlib.ticker as ticker\n"
   ]
  },
  {
   "cell_type": "code",
   "execution_count": null,
   "id": "moved-demand",
   "metadata": {},
   "outputs": [],
   "source": [
    "file_lists=['/notebooks/nlp_deeplearning/charmodel/data/first_names.all.txt']\n",
    "\n",
    "names_list = []\n",
    "with open(file_lists[0],'r') as file:\n",
    "    for name in file.read().splitlines()[1:]:\n",
    "        filtered_name = re.sub(r'\\W+', '', name)\n",
    "        names_list.append(filtered_name.upper())"
   ]
  },
  {
   "cell_type": "code",
   "execution_count": null,
   "id": "silver-samoa",
   "metadata": {},
   "outputs": [],
   "source": [
    "names_list[:5]"
   ]
  },
  {
   "cell_type": "markdown",
   "id": "employed-leone",
   "metadata": {},
   "source": [
    "## Load data"
   ]
  },
  {
   "cell_type": "code",
   "execution_count": 3,
   "id": "residential-demand",
   "metadata": {},
   "outputs": [],
   "source": [
    "import sys\n",
    "sys.path.insert(0,'/notebooks/Projects/Seq2Seq')\n",
    "sys.path.insert(0, '../')\n",
    "sys.path.insert(0,'../runs')"
   ]
  },
  {
   "cell_type": "code",
   "execution_count": 4,
   "id": "distinct-blond",
   "metadata": {},
   "outputs": [],
   "source": [
    "from mllib.seq2seq.namegen import *\n",
    "from dotmap import DotMap\n",
    "from mllib.seq2seq.model import *\n",
    "from pytorch_lightning.loggers import TensorBoardLogger\n",
    "from pytorch_lightning.callbacks import ModelCheckpoint\n",
    "from pytorch_lightning.loggers.neptune import NeptuneLogger\n",
    "import pytorch_lightning as pl\n",
    "\n"
   ]
  },
  {
   "cell_type": "code",
   "execution_count": null,
   "id": "speaking-watts",
   "metadata": {},
   "outputs": [],
   "source": [
    "dsrc = get_dataset(names_list)\n"
   ]
  },
  {
   "cell_type": "markdown",
   "id": "scientific-produce",
   "metadata": {},
   "source": [
    "# Modelling"
   ]
  },
  {
   "cell_type": "code",
   "execution_count": null,
   "id": "protecting-savings",
   "metadata": {},
   "outputs": [],
   "source": [
    "hparams = DotMap({'vocab_size': len(dsrc.vocab), \n",
    "          'embedding_size': 30,\n",
    "          'hidden_size': 300,\n",
    "            'max_len': 15,\n",
    "            'num_layers':2,\n",
    "            'lr': 0.02})\n"
   ]
  },
  {
   "cell_type": "markdown",
   "id": "baking-stylus",
   "metadata": {},
   "source": [
    "# Training"
   ]
  },
  {
   "cell_type": "code",
   "execution_count": null,
   "id": "incomplete-service",
   "metadata": {},
   "outputs": [],
   "source": [
    "\n",
    "neptune_logger = NeptuneLogger(\n",
    "    api_key=\"eyJhcGlfYWRkcmVzcyI6Imh0dHBzOi8vYXBwLm5lcHR1bmUuYWkiLCJhcGlfdXJsIjoiaHR0cHM6Ly9hcHAubmVwdHVuZS5haSIsImFwaV9rZXkiOiIwYWY0OTQ4MS03MGY4LTRhNjUtOTFlZC0zZjVjMjlmZGQxNjQifQ==\",\n",
    "    project_name=\"puneetgirdhar.in/charnn\")\n",
    "\n",
    "tensorboard_logger = TensorBoardLogger(\"tb_logs\", name=\"my_model\")"
   ]
  },
  {
   "cell_type": "code",
   "execution_count": null,
   "id": "banner-wisconsin",
   "metadata": {},
   "outputs": [],
   "source": [
    "dls = dsrc.dataloaders(after_item=after_item, before_batch=pad_input_chunk_new, bs=32, n_inp=2)\n",
    "\n",
    "# make sure that we use serializing option to instantiate the model\n",
    "\n",
    "model = RNN(hparams, char2tensor = str(dict(dls.numericalize.o2i)), vocab=str(dls.numericalize.vocab))\n",
    "\n",
    "checkpoint_callback = ModelCheckpoint(\n",
    "    dirpath = './checkpoints',\n",
    "    filename='{epoch}',\n",
    "    save_top_k=3,\n",
    "    monitor='val_loss',\n",
    "    mode='min'\n",
    ")\n",
    "\n",
    "\n",
    "trainer = pl.Trainer(fast_dev_run=False, logger=neptune_logger, auto_lr_find='learning_rate',gpus=1,\n",
    "                    callbacks=[EarlyStopping(monitor='val_loss',patience=5), checkpoint_callback],\n",
    "                    )"
   ]
  },
  {
   "cell_type": "code",
   "execution_count": null,
   "id": "honey-handy",
   "metadata": {},
   "outputs": [],
   "source": [
    "trainer.fit(model, dls.train, dls.valid)"
   ]
  },
  {
   "cell_type": "markdown",
   "id": "processed-calculator",
   "metadata": {},
   "source": [
    "# Evaluation"
   ]
  },
  {
   "cell_type": "markdown",
   "id": "saving-denmark",
   "metadata": {},
   "source": [
    "Now, we can generate some names randomly"
   ]
  },
  {
   "cell_type": "code",
   "execution_count": null,
   "id": "national-copyright",
   "metadata": {},
   "outputs": [],
   "source": [
    "md = get_first_name_model()"
   ]
  },
  {
   "cell_type": "code",
   "execution_count": null,
   "id": "overall-disposal",
   "metadata": {},
   "outputs": [],
   "source": [
    "md.cuda()"
   ]
  },
  {
   "cell_type": "code",
   "execution_count": null,
   "id": "undefined-peter",
   "metadata": {},
   "outputs": [],
   "source": [
    "md.generate(\"CHRIS\")"
   ]
  },
  {
   "cell_type": "markdown",
   "id": "remarkable-consultation",
   "metadata": {},
   "source": [
    "# Bert Transformer\n",
    "\n",
    "Here is an example to use custom bert transformer for seq 2 seq task. I trained the model for German to english translation."
   ]
  },
  {
   "cell_type": "code",
   "execution_count": 57,
   "id": "prostate-anthony",
   "metadata": {},
   "outputs": [],
   "source": [
    "import torch\n",
    "import spacy\n",
    "\n",
    "from mllib.bert import *\n",
    "from runs.run_bert import *\n",
    "import spacy\n",
    "\n",
    "\n",
    "device = torch.device('cpu')"
   ]
  },
  {
   "cell_type": "code",
   "execution_count": 58,
   "id": "underlying-indiana",
   "metadata": {},
   "outputs": [],
   "source": [
    "\n",
    "model = LITTransformer.load_from_checkpoint(\"~/trainer.ckpt\")"
   ]
  },
  {
   "cell_type": "code",
   "execution_count": 59,
   "id": "multiple-stable",
   "metadata": {},
   "outputs": [],
   "source": [
    "dm = MyDataModule(batch_size=1)"
   ]
  },
  {
   "cell_type": "code",
   "execution_count": 62,
   "id": "conscious-broadway",
   "metadata": {},
   "outputs": [
    {
     "name": "stderr",
     "output_type": "stream",
     "text": [
      "100%|██████████| 29000/29000 [00:02<00:00, 13587.77lines/s]\n",
      "100%|██████████| 29000/29000 [00:01<00:00, 22439.71lines/s]\n"
     ]
    }
   ],
   "source": [
    "dm.prepare_data()\n",
    "dm.setup()"
   ]
  },
  {
   "cell_type": "code",
   "execution_count": 72,
   "id": "dirty-lindsay",
   "metadata": {},
   "outputs": [],
   "source": [
    "src = dm.train_data.data[0][0]\n",
    "trg = dm.train_data.data[0][1]\n",
    "\n",
    "nlp = spacy.load('de_core_news_sm')\n",
    "src = [token.text.lower() for token in nlp(src)]\n",
    "\n",
    "nlp = spacy.load(\"en_core_web_sm\")\n",
    "trg = [token.text.lower() for token in nlp(trg)]"
   ]
  },
  {
   "cell_type": "code",
   "execution_count": 75,
   "id": "norwegian-detroit",
   "metadata": {},
   "outputs": [],
   "source": [
    "def translate_sentence(sentence, src_vocab, trg_vocab, model, device, max_len=50):\n",
    "    model.eval()\n",
    "    BOS_IDX = src_vocab['<bos>']\n",
    "    EOS_IDX = trg_vocab['<pad>']\n",
    "\n",
    "    if isinstance(sentence, str):\n",
    "        nlp = spacy.load('de_core_news_sm')\n",
    "        tokens = [token.text.lower() for token in nlp(sentence)]\n",
    "    else:\n",
    "        tokens = [token.lower() for token in sentence]\n",
    "    \n",
    "    src_indices = [BOS_IDX] + [src_vocab.stoi[token] for token in tokens] + [EOS_IDX]\n",
    "    \n",
    "    src_tensor = torch.LongTensor(src_indices).unsqueeze(0).to(device)\n",
    "    src_mask = model.make_src_mask(src_tensor)\n",
    "    \n",
    "    with torch.no_grad():\n",
    "        enc_src = model.encoder(src_tensor, src_mask)\n",
    "        \n",
    "    trg_indices = [BOS_IDX]\n",
    "    for i in range(max_len):\n",
    "        trg_tensor = torch.LongTensor(trg_indices).unsqueeze(0).to(device)\n",
    "        trg_mask = model.make_trg_mask(trg_tensor)\n",
    "    \n",
    "        with torch.no_grad():\n",
    "            output, attention = model.decoder(trg_tensor, enc_src, src_mask, trg_mask)\n",
    "            \n",
    "            \n",
    "            pred_token = output.argmax(2)[:,-1].item()\n",
    "            \n",
    "            trg_indices.append(pred_token)\n",
    "            \n",
    "            if pred_token == EOS_IDX:\n",
    "                break\n",
    "            \n",
    "    trg_tokens = [trg_vocab.itos[i] for i in trg_indices]\n",
    "    \n",
    "    return trg_tokens[1:], attention\n",
    "                                                              "
   ]
  },
  {
   "cell_type": "code",
   "execution_count": 76,
   "id": "consolidated-gender",
   "metadata": {},
   "outputs": [],
   "source": [
    "translation, attention = translate_sentence(src, dm.src_vocab, dm.trg_vocab, model.model, device)\n",
    "#translation"
   ]
  },
  {
   "cell_type": "code",
   "execution_count": 81,
   "id": "center-swimming",
   "metadata": {},
   "outputs": [],
   "source": [
    "def display_attention(sentence, translation, attention, n_heads= 8, n_rows= 4, n_cols=2):\n",
    "    assert n_rows * n_cols == n_heads\n",
    "    \n",
    "    fig = plt.figure(figsize=(15, 25))\n",
    "    for i in range(n_heads):\n",
    "        ax = fig.add_subplot(n_rows, n_cols, i+1)\n",
    "        _attention = attention.squeeze(0)[i].cpu().detach().numpy()\n",
    "        \n",
    "        cax = ax.matshow(_attention, cmap='bone')\n",
    "        \n",
    "        ax.tick_params(labelsize=12)\n",
    "        ax.set_xticklabels([''] + ['<bos>'] + [t.lower() for t in sentence] + ['<eos>'], rotation=45)\n",
    "        ax.set_yticklabels([''] + translation)\n",
    "        \n",
    "        ax.xaxis.set_major_locator(ticker.MultipleLocator(1))\n",
    "        ax.yaxis.set_major_locator(ticker.MultipleLocator(1))\n",
    "        \n",
    "    plt.show()\n",
    "    plt.close()\n",
    "        "
   ]
  },
  {
   "cell_type": "code",
   "execution_count": 84,
   "id": "attached-conditioning",
   "metadata": {},
   "outputs": [
    {
     "name": "stderr",
     "output_type": "stream",
     "text": [
      "<ipython-input-81-3b3c3a1182ac>:12: UserWarning: FixedFormatter should only be used together with FixedLocator\n",
      "  ax.set_xticklabels([''] + ['<bos>'] + [t.lower() for t in sentence] + ['<eos>'], rotation=45)\n",
      "<ipython-input-81-3b3c3a1182ac>:13: UserWarning: FixedFormatter should only be used together with FixedLocator\n",
      "  ax.set_yticklabels([''] + translation)\n"
     ]
    },
    {
     "data": {
      "image/png": "[encoded data removed]",
      "text/plain": [
       "<Figure size 1080x1800 with 8 Axes>"
      ]
     },
     "metadata": {
      "needs_background": "light"
     },
     "output_type": "display_data"
    }
   ],
   "source": [
    "display_attention(src, translation, attention)"
   ]
  },
  {
   "cell_type": "code",
   "execution_count": null,
   "id": "pursuant-implementation",
   "metadata": {},
   "outputs": [],
   "source": []
  }
 ],
 "metadata": {
  "kernelspec": {
   "display_name": "Python 3",
   "language": "python",
   "name": "python3"
  },
  "language_info": {
   "codemirror_mode": {
    "name": "ipython",
    "version": 3
   },
   "file_extension": ".py",
   "mimetype": "text/x-python",
   "name": "python",
   "nbconvert_exporter": "python",
   "pygments_lexer": "ipython3",
   "version": "3.9.2"
  }
 },
 "nbformat": 4,
 "nbformat_minor": 5
}
