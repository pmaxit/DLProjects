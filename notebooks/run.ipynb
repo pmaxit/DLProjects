{
 "cells": [
  {
   "cell_type": "markdown",
   "id": "comic-nicaragua",
   "metadata": {},
   "source": [
    "# Generating names dataset"
   ]
  },
  {
   "cell_type": "markdown",
   "id": "outdoor-hudson",
   "metadata": {},
   "source": [
    "Here we will generate names dataset. Names dataset is supposed to be list of names."
   ]
  },
  {
   "cell_type": "code",
   "execution_count": null,
   "id": "typical-merit",
   "metadata": {},
   "outputs": [],
   "source": [
    "%load_ext autoreload\n",
    "%autoreload 2"
   ]
  },
  {
   "cell_type": "code",
   "execution_count": null,
   "id": "unlike-stroke",
   "metadata": {},
   "outputs": [],
   "source": [
    "import re\n",
    "from pytorch_lightning.callbacks.early_stopping import EarlyStopping"
   ]
  },
  {
   "cell_type": "code",
   "execution_count": null,
   "id": "accompanied-despite",
   "metadata": {},
   "outputs": [],
   "source": [
    "file_lists=['/notebooks/nlp_deeplearning/charmodel/data/first_names.all.txt']\n",
    "\n",
    "names_list = []\n",
    "with open(file_lists[0],'r') as file:\n",
    "    for name in file.read().splitlines()[1:]:\n",
    "        filtered_name = re.sub(r'\\W+', '', name)\n",
    "        names_list.append(filtered_name.upper())"
   ]
  },
  {
   "cell_type": "code",
   "execution_count": null,
   "id": "brief-chest",
   "metadata": {},
   "outputs": [
    {
     "data": {
      "text/plain": [
       "['AISHA', 'AISHAH', 'AJAY', 'AAISHA', 'AAISHAH']"
      ]
     },
     "execution_count": null,
     "metadata": {},
     "output_type": "execute_result"
    }
   ],
   "source": [
    "names_list[:5]"
   ]
  },
  {
   "cell_type": "markdown",
   "id": "complicated-slope",
   "metadata": {},
   "source": [
    "## Load data"
   ]
  },
  {
   "cell_type": "code",
   "execution_count": null,
   "id": "involved-marsh",
   "metadata": {},
   "outputs": [],
   "source": [
    "from mllib.seq2seq.namegen import *\n",
    "from dotmap import DotMap\n",
    "from mllib.seq2seq.model import *\n",
    "from pytorch_lightning.loggers import TensorBoardLogger\n",
    "from pytorch_lightning.callbacks import ModelCheckpoint\n",
    "from pytorch_lightning.loggers.neptune import NeptuneLogger\n",
    "import pytorch_lightning as pl\n",
    "\n"
   ]
  },
  {
   "cell_type": "code",
   "execution_count": null,
   "id": "electronic-conditioning",
   "metadata": {},
   "outputs": [],
   "source": [
    "dsrc = get_dataset(names_list)\n"
   ]
  },
  {
   "cell_type": "markdown",
   "id": "tutorial-capability",
   "metadata": {},
   "source": [
    "# Modelling"
   ]
  },
  {
   "cell_type": "code",
   "execution_count": null,
   "id": "located-browse",
   "metadata": {},
   "outputs": [],
   "source": [
    "hparams = DotMap({'vocab_size': len(dsrc.vocab), \n",
    "          'embedding_size': 30,\n",
    "          'hidden_size': 300,\n",
    "            'max_len': 15,\n",
    "            'num_layers':2,\n",
    "            'lr': 0.02})\n"
   ]
  },
  {
   "cell_type": "markdown",
   "id": "metropolitan-hacker",
   "metadata": {},
   "source": [
    "# Training"
   ]
  },
  {
   "cell_type": "code",
   "execution_count": null,
   "id": "processed-chase",
   "metadata": {},
   "outputs": [
    {
     "name": "stderr",
     "output_type": "stream",
     "text": [
      "NeptuneLogger will work in online mode\n"
     ]
    }
   ],
   "source": [
    "\n",
    "neptune_logger = NeptuneLogger(\n",
    "    api_key=\"eyJhcGlfYWRkcmVzcyI6Imh0dHBzOi8vYXBwLm5lcHR1bmUuYWkiLCJhcGlfdXJsIjoiaHR0cHM6Ly9hcHAubmVwdHVuZS5haSIsImFwaV9rZXkiOiIwYWY0OTQ4MS03MGY4LTRhNjUtOTFlZC0zZjVjMjlmZGQxNjQifQ==\",\n",
    "    project_name=\"puneetgirdhar.in/charnn\")\n",
    "\n",
    "tensorboard_logger = TensorBoardLogger(\"tb_logs\", name=\"my_model\")"
   ]
  },
  {
   "cell_type": "code",
   "execution_count": null,
   "id": "useful-escape",
   "metadata": {},
   "outputs": [
    {
     "name": "stderr",
     "output_type": "stream",
     "text": [
      "GPU available: True, used: True\n",
      "TPU available: None, using: 0 TPU cores\n"
     ]
    }
   ],
   "source": [
    "dls = dsrc.dataloaders(after_item=after_item, before_batch=pad_input_chunk_new, bs=32, n_inp=2)\n",
    "\n",
    "# make sure that we use serializing option to instantiate the model\n",
    "\n",
    "model = RNN(hparams, char2tensor = str(dict(dls.numericalize.o2i)), vocab=str(dls.numericalize.vocab))\n",
    "\n",
    "checkpoint_callback = ModelCheckpoint(\n",
    "    dirpath = './checkpoints',\n",
    "    filename='{epoch}',\n",
    "    save_top_k=3,\n",
    "    monitor='val_loss',\n",
    "    mode='min'\n",
    ")\n",
    "\n",
    "\n",
    "trainer = pl.Trainer(fast_dev_run=False, logger=neptune_logger, auto_lr_find='learning_rate',gpus=1,\n",
    "                    callbacks=[EarlyStopping(monitor='val_loss',patience=5), checkpoint_callback],\n",
    "                    )"
   ]
  },
  {
   "cell_type": "code",
   "execution_count": null,
   "id": "constitutional-sleeping",
   "metadata": {},
   "outputs": [
    {
     "name": "stdout",
     "output_type": "stream",
     "text": [
      "https://app.neptune.ai/puneetgirdhar.in/charnn/e/CHAR-32\n"
     ]
    },
    {
     "name": "stderr",
     "output_type": "stream",
     "text": [
      "\n",
      "  | Name      | Type             | Params\n",
      "-----------------------------------------------\n",
      "0 | dropout   | Dropout          | 0     \n",
      "1 | embedding | Embedding        | 3.1 K \n",
      "2 | rnn       | LSTM             | 1.1 M \n",
      "3 | decoder   | Linear           | 31.3 K\n",
      "4 | criterion | CrossEntropyLoss | 0     \n",
      "-----------------------------------------------\n",
      "1.2 M     Trainable params\n",
      "0         Non-trainable params\n",
      "1.2 M     Total params\n",
      "4.621     Total estimated model params size (MB)\n"
     ]
    },
    {
     "data": {
      "application/vnd.jupyter.widget-view+json": {
       "model_id": "",
       "version_major": 2,
       "version_minor": 0
      },
      "text/plain": [
       "HBox(children=(HTML(value='Validation sanity check'), FloatProgress(value=1.0, bar_style='info', layout=Layout…"
      ]
     },
     "metadata": {},
     "output_type": "display_data"
    },
    {
     "name": "stdout",
     "output_type": "stream",
     "text": [
      "{'A': 'AxxmajगÆÞŪÁदxxupDZŽÕBVग', 'B': 'BÊExxfakeÌशदनVAxxfakeÑदxxfakeKxxup', 'R': 'RxxfakeĪ', 'KAR': 'KARŞxxfakeĞLÈYÑÅनCEŘĻÈŪ', 'TE': 'TExxfakeलxxfakeमŻÝŐÏxxfakeगxxfakeSQOF', 'CHRI': 'CHRIÁŅŪलĢŻxxmajŽतĀĽयÂÓĪ'}\n"
     ]
    },
    {
     "data": {
      "application/vnd.jupyter.widget-view+json": {
       "model_id": "034e7c0090154c5f8c014c0705ec1767",
       "version_major": 2,
       "version_minor": 0
      },
      "text/plain": [
       "HBox(children=(HTML(value='Training'), FloatProgress(value=1.0, bar_style='info', layout=Layout(flex='2'), max…"
      ]
     },
     "metadata": {},
     "output_type": "display_data"
    },
    {
     "data": {
      "application/vnd.jupyter.widget-view+json": {
       "model_id": "",
       "version_major": 2,
       "version_minor": 0
      },
      "text/plain": [
       "HBox(children=(HTML(value='Validating'), FloatProgress(value=1.0, bar_style='info', layout=Layout(flex='2'), m…"
      ]
     },
     "metadata": {},
     "output_type": "display_data"
    },
    {
     "name": "stdout",
     "output_type": "stream",
     "text": [
      "{'A': 'AQUINDE', 'B': 'BÜALLAR', 'R': 'RÄAJAY', 'KAR': 'KARITZA', 'TE': 'TEGHER', 'CHRI': 'CHRIDKAL'}\n"
     ]
    },
    {
     "data": {
      "application/vnd.jupyter.widget-view+json": {
       "model_id": "",
       "version_major": 2,
       "version_minor": 0
      },
      "text/plain": [
       "HBox(children=(HTML(value='Validating'), FloatProgress(value=1.0, bar_style='info', layout=Layout(flex='2'), m…"
      ]
     },
     "metadata": {},
     "output_type": "display_data"
    },
    {
     "name": "stdout",
     "output_type": "stream",
     "text": [
      "{'A': 'AIKA', 'B': 'BURNEY', 'R': 'RÚBURT', 'KAR': 'KARYOS', 'TE': 'TENVIER', 'CHRI': 'CHRINCER'}\n"
     ]
    },
    {
     "data": {
      "application/vnd.jupyter.widget-view+json": {
       "model_id": "",
       "version_major": 2,
       "version_minor": 0
      },
      "text/plain": [
       "HBox(children=(HTML(value='Validating'), FloatProgress(value=1.0, bar_style='info', layout=Layout(flex='2'), m…"
      ]
     },
     "metadata": {},
     "output_type": "display_data"
    },
    {
     "name": "stdout",
     "output_type": "stream",
     "text": [
      "{'A': 'AÂ', 'B': 'BHUNI', 'R': 'RENVRA', 'KAR': 'KARIO', 'TE': 'TEJATO', 'CHRI': 'CHRISTIANNAH'}\n"
     ]
    },
    {
     "data": {
      "application/vnd.jupyter.widget-view+json": {
       "model_id": "",
       "version_major": 2,
       "version_minor": 0
      },
      "text/plain": [
       "HBox(children=(HTML(value='Validating'), FloatProgress(value=1.0, bar_style='info', layout=Layout(flex='2'), m…"
      ]
     },
     "metadata": {},
     "output_type": "display_data"
    },
    {
     "name": "stdout",
     "output_type": "stream",
     "text": [
      "{'A': 'AVENTING', 'B': 'BINKAI', 'R': 'RUTHARD', 'KAR': 'KARIA', 'TE': 'TESIA', 'CHRI': 'CHRISHED'}\n"
     ]
    },
    {
     "data": {
      "application/vnd.jupyter.widget-view+json": {
       "model_id": "",
       "version_major": 2,
       "version_minor": 0
      },
      "text/plain": [
       "HBox(children=(HTML(value='Validating'), FloatProgress(value=1.0, bar_style='info', layout=Layout(flex='2'), m…"
      ]
     },
     "metadata": {},
     "output_type": "display_data"
    },
    {
     "name": "stdout",
     "output_type": "stream",
     "text": [
      "{'A': 'ANKA', 'B': 'BUWN', 'R': 'REETTA', 'KAR': 'KARAY', 'TE': 'TENDRA', 'CHRI': 'CHRISTENA'}\n"
     ]
    },
    {
     "data": {
      "application/vnd.jupyter.widget-view+json": {
       "model_id": "",
       "version_major": 2,
       "version_minor": 0
      },
      "text/plain": [
       "HBox(children=(HTML(value='Validating'), FloatProgress(value=1.0, bar_style='info', layout=Layout(flex='2'), m…"
      ]
     },
     "metadata": {},
     "output_type": "display_data"
    },
    {
     "name": "stdout",
     "output_type": "stream",
     "text": [
      "{'A': 'AL', 'B': 'BURG', 'R': 'REDA', 'KAR': 'KARI', 'TE': 'TEOFOE', 'CHRI': 'CHRISHAH'}\n"
     ]
    },
    {
     "data": {
      "application/vnd.jupyter.widget-view+json": {
       "model_id": "",
       "version_major": 2,
       "version_minor": 0
      },
      "text/plain": [
       "HBox(children=(HTML(value='Validating'), FloatProgress(value=1.0, bar_style='info', layout=Layout(flex='2'), m…"
      ]
     },
     "metadata": {},
     "output_type": "display_data"
    },
    {
     "name": "stdout",
     "output_type": "stream",
     "text": [
      "{'A': 'AŘJUNAY', 'B': 'BUSHANAN', 'R': 'RIEYANNA', 'KAR': 'KARI', 'TE': 'TERNISLAV', 'CHRI': 'CHRISTYNE'}\n"
     ]
    },
    {
     "name": "stderr",
     "output_type": "stream",
     "text": [
      "Experiencing connection interruptions. Reestablishing communication with Neptune.\n",
      "Experiencing connection interruptions. Reestablishing communication with Neptune.\n"
     ]
    },
    {
     "data": {
      "application/vnd.jupyter.widget-view+json": {
       "model_id": "",
       "version_major": 2,
       "version_minor": 0
      },
      "text/plain": [
       "HBox(children=(HTML(value='Validating'), FloatProgress(value=1.0, bar_style='info', layout=Layout(flex='2'), m…"
      ]
     },
     "metadata": {},
     "output_type": "display_data"
    },
    {
     "name": "stdout",
     "output_type": "stream",
     "text": [
      "{'A': 'AMARIE', 'B': 'BURN', 'R': 'RxxrepZIJA', 'KAR': 'KARO', 'TE': 'TERLINA', 'CHRI': 'CHRISTINE'}\n"
     ]
    },
    {
     "data": {
      "application/vnd.jupyter.widget-view+json": {
       "model_id": "",
       "version_major": 2,
       "version_minor": 0
      },
      "text/plain": [
       "HBox(children=(HTML(value='Validating'), FloatProgress(value=1.0, bar_style='info', layout=Layout(flex='2'), m…"
      ]
     },
     "metadata": {},
     "output_type": "display_data"
    },
    {
     "name": "stdout",
     "output_type": "stream",
     "text": [
      "{'A': 'A', 'B': 'BUKK', 'R': 'RËÐÐUR', 'KAR': 'KARRA', 'TE': 'TERRYANN', 'CHRI': 'CHRISHANA'}\n"
     ]
    },
    {
     "data": {
      "application/vnd.jupyter.widget-view+json": {
       "model_id": "",
       "version_major": 2,
       "version_minor": 0
      },
      "text/plain": [
       "HBox(children=(HTML(value='Validating'), FloatProgress(value=1.0, bar_style='info', layout=Layout(flex='2'), m…"
      ]
     },
     "metadata": {},
     "output_type": "display_data"
    },
    {
     "name": "stdout",
     "output_type": "stream",
     "text": [
      "{'A': 'AYIA', 'B': 'BORGAJAY', 'R': 'RĪJANA', 'KAR': 'KARSHA', 'TE': 'TEYA', 'CHRI': 'CHRISTON'}\n"
     ]
    },
    {
     "data": {
      "application/vnd.jupyter.widget-view+json": {
       "model_id": "",
       "version_major": 2,
       "version_minor": 0
      },
      "text/plain": [
       "HBox(children=(HTML(value='Validating'), FloatProgress(value=1.0, bar_style='info', layout=Layout(flex='2'), m…"
      ]
     },
     "metadata": {},
     "output_type": "display_data"
    },
    {
     "name": "stdout",
     "output_type": "stream",
     "text": [
      "{'A': 'AŁ', 'B': 'BJÖLN', 'R': 'RÚNKA', 'KAR': 'KARAGH', 'TE': 'TERIUS', 'CHRI': 'CHRISALDO'}\n"
     ]
    },
    {
     "data": {
      "application/vnd.jupyter.widget-view+json": {
       "model_id": "",
       "version_major": 2,
       "version_minor": 0
      },
      "text/plain": [
       "HBox(children=(HTML(value='Validating'), FloatProgress(value=1.0, bar_style='info', layout=Layout(flex='2'), m…"
      ]
     },
     "metadata": {},
     "output_type": "display_data"
    },
    {
     "name": "stdout",
     "output_type": "stream",
     "text": [
      "{'A': 'AZAVI', 'B': 'BOOL', 'R': 'RxxfakeĚDA', 'KAR': 'KARA', 'TE': 'TEUS', 'CHRI': 'CHRISTHARD'}\n"
     ]
    },
    {
     "data": {
      "application/vnd.jupyter.widget-view+json": {
       "model_id": "",
       "version_major": 2,
       "version_minor": 0
      },
      "text/plain": [
       "HBox(children=(HTML(value='Validating'), FloatProgress(value=1.0, bar_style='info', layout=Layout(flex='2'), m…"
      ]
     },
     "metadata": {},
     "output_type": "display_data"
    },
    {
     "name": "stdout",
     "output_type": "stream",
     "text": [
      "{'A': 'ATCHEANE', 'B': 'BEUGH', 'R': 'RNÚACUS', 'KAR': 'KARPHYLEE', 'TE': 'TERESLUCH', 'CHRI': 'CHRISTRUPH'}\n"
     ]
    },
    {
     "data": {
      "application/vnd.jupyter.widget-view+json": {
       "model_id": "",
       "version_major": 2,
       "version_minor": 0
      },
      "text/plain": [
       "HBox(children=(HTML(value='Validating'), FloatProgress(value=1.0, bar_style='info', layout=Layout(flex='2'), m…"
      ]
     },
     "metadata": {},
     "output_type": "display_data"
    },
    {
     "name": "stdout",
     "output_type": "stream",
     "text": [
      "{'A': 'ATCHUP', 'B': 'BOBIM', 'R': 'RÐÐPLÍDOSLAW', 'KAR': 'KARELA', 'TE': 'TERRALL', 'CHRI': 'CHRISTOPHER'}\n"
     ]
    }
   ],
   "source": [
    "trainer.fit(model, dls.train, dls.valid)"
   ]
  },
  {
   "cell_type": "markdown",
   "id": "cooked-disclaimer",
   "metadata": {},
   "source": [
    "# Evaluation"
   ]
  },
  {
   "cell_type": "markdown",
   "id": "novel-height",
   "metadata": {},
   "source": [
    "Now, we can generate some names randomly"
   ]
  },
  {
   "cell_type": "code",
   "execution_count": null,
   "id": "forward-diagram",
   "metadata": {},
   "outputs": [
    {
     "data": {
      "text/plain": [
       "'AÓÁजÖÞXxxupxxfakexxwrepHĻÚĻÌÝ'"
      ]
     },
     "execution_count": null,
     "metadata": {},
     "output_type": "execute_result"
    }
   ],
   "source": [
    "trainer.gen_name(\"A\")"
   ]
  },
  {
   "cell_type": "code",
   "execution_count": null,
   "id": "aging-yugoslavia",
   "metadata": {},
   "outputs": [
    {
     "name": "stderr",
     "output_type": "stream",
     "text": [
      "GPU available: True, used: True\n",
      "TPU available: None, using: 0 TPU cores\n"
     ]
    },
    {
     "data": {
      "text/plain": [
       "<pytorch_lightning.trainer.trainer.Trainer at 0x7f4464aafdf0>"
      ]
     },
     "execution_count": null,
     "metadata": {},
     "output_type": "execute_result"
    }
   ],
   "source": [
    "train_from_scratch(names_list, hparams)"
   ]
  },
  {
   "cell_type": "code",
   "execution_count": null,
   "id": "black-telling",
   "metadata": {},
   "outputs": [],
   "source": []
  }
 ],
 "metadata": {
  "kernelspec": {
   "display_name": "Python 3",
   "language": "python",
   "name": "python3"
  }
 },
 "nbformat": 4,
 "nbformat_minor": 5
}
