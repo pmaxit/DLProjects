{
 "cells": [
  {
   "cell_type": "markdown",
   "id": "orange-extraction",
   "metadata": {},
   "source": [
    "# Generating names dataset"
   ]
  },
  {
   "cell_type": "markdown",
   "id": "polar-delhi",
   "metadata": {},
   "source": [
    "Here we will generate names dataset. Names dataset is supposed to be list of names."
   ]
  },
  {
   "cell_type": "code",
   "execution_count": null,
   "id": "homeless-vermont",
   "metadata": {},
   "outputs": [],
   "source": [
    "%load_ext autoreload\n",
    "%autoreload 2"
   ]
  },
  {
   "cell_type": "code",
   "execution_count": null,
   "id": "featured-entity",
   "metadata": {},
   "outputs": [],
   "source": [
    "import re\n",
    "from pytorch_lightning.callbacks.early_stopping import EarlyStopping"
   ]
  },
  {
   "cell_type": "code",
   "execution_count": null,
   "id": "tutorial-sydney",
   "metadata": {},
   "outputs": [],
   "source": [
    "file_lists=['/notebooks/nlp_deeplearning/charmodel/data/first_names.all.txt']\n",
    "\n",
    "names_list = []\n",
    "with open(file_lists[0],'r') as file:\n",
    "    for name in file.read().splitlines()[1:]:\n",
    "        filtered_name = re.sub(r'\\W+', '', name)\n",
    "        names_list.append(filtered_name.upper())"
   ]
  },
  {
   "cell_type": "code",
   "execution_count": null,
   "id": "violent-frame",
   "metadata": {},
   "outputs": [
    {
     "data": {
      "text/plain": [
       "['AISHA', 'AISHAH', 'AJAY', 'AAISHA', 'AAISHAH']"
      ]
     },
     "execution_count": null,
     "metadata": {},
     "output_type": "execute_result"
    }
   ],
   "source": [
    "names_list[:5]"
   ]
  },
  {
   "cell_type": "markdown",
   "id": "limiting-eating",
   "metadata": {},
   "source": [
    "## Load data"
   ]
  },
  {
   "cell_type": "code",
   "execution_count": null,
   "id": "instructional-amsterdam",
   "metadata": {},
   "outputs": [],
   "source": [
    "import sys\n",
    "sys.path.insert(0,'/notebooks/Projects/Seq2Seq')"
   ]
  },
  {
   "cell_type": "code",
   "execution_count": null,
   "id": "handmade-review",
   "metadata": {},
   "outputs": [],
   "source": [
    "from mllib.seq2seq.namegen import *\n",
    "from dotmap import DotMap\n",
    "from mllib.seq2seq.model import *\n",
    "from pytorch_lightning.loggers import TensorBoardLogger\n",
    "from pytorch_lightning.callbacks import ModelCheckpoint\n",
    "from pytorch_lightning.loggers.neptune import NeptuneLogger\n",
    "import pytorch_lightning as pl\n",
    "\n"
   ]
  },
  {
   "cell_type": "code",
   "execution_count": null,
   "id": "enhanced-intersection",
   "metadata": {},
   "outputs": [],
   "source": [
    "dsrc = get_dataset(names_list)\n"
   ]
  },
  {
   "cell_type": "markdown",
   "id": "abroad-cherry",
   "metadata": {},
   "source": [
    "# Modelling"
   ]
  },
  {
   "cell_type": "code",
   "execution_count": null,
   "id": "divine-cardiff",
   "metadata": {},
   "outputs": [],
   "source": [
    "hparams = DotMap({'vocab_size': len(dsrc.vocab), \n",
    "          'embedding_size': 30,\n",
    "          'hidden_size': 300,\n",
    "            'max_len': 15,\n",
    "            'num_layers':2,\n",
    "            'lr': 0.02})\n"
   ]
  },
  {
   "cell_type": "markdown",
   "id": "excellent-gathering",
   "metadata": {},
   "source": [
    "# Training"
   ]
  },
  {
   "cell_type": "code",
   "execution_count": null,
   "id": "interpreted-paste",
   "metadata": {},
   "outputs": [
    {
     "name": "stderr",
     "output_type": "stream",
     "text": [
      "NeptuneLogger will work in online mode\n"
     ]
    }
   ],
   "source": [
    "\n",
    "neptune_logger = NeptuneLogger(\n",
    "    api_key=\"eyJhcGlfYWRkcmVzcyI6Imh0dHBzOi8vYXBwLm5lcHR1bmUuYWkiLCJhcGlfdXJsIjoiaHR0cHM6Ly9hcHAubmVwdHVuZS5haSIsImFwaV9rZXkiOiIwYWY0OTQ4MS03MGY4LTRhNjUtOTFlZC0zZjVjMjlmZGQxNjQifQ==\",\n",
    "    project_name=\"puneetgirdhar.in/charnn\")\n",
    "\n",
    "tensorboard_logger = TensorBoardLogger(\"tb_logs\", name=\"my_model\")"
   ]
  },
  {
   "cell_type": "code",
   "execution_count": null,
   "id": "accurate-warren",
   "metadata": {},
   "outputs": [
    {
     "name": "stderr",
     "output_type": "stream",
     "text": [
      "GPU available: True, used: True\n",
      "TPU available: None, using: 0 TPU cores\n"
     ]
    }
   ],
   "source": [
    "dls = dsrc.dataloaders(after_item=after_item, before_batch=pad_input_chunk_new, bs=32, n_inp=2)\n",
    "\n",
    "# make sure that we use serializing option to instantiate the model\n",
    "\n",
    "model = RNN(hparams, char2tensor = str(dict(dls.numericalize.o2i)), vocab=str(dls.numericalize.vocab))\n",
    "\n",
    "checkpoint_callback = ModelCheckpoint(\n",
    "    dirpath = './checkpoints',\n",
    "    filename='{epoch}',\n",
    "    save_top_k=3,\n",
    "    monitor='val_loss',\n",
    "    mode='min'\n",
    ")\n",
    "\n",
    "\n",
    "trainer = pl.Trainer(fast_dev_run=False, logger=neptune_logger, auto_lr_find='learning_rate',gpus=1,\n",
    "                    callbacks=[EarlyStopping(monitor='val_loss',patience=5), checkpoint_callback],\n",
    "                    )"
   ]
  },
  {
   "cell_type": "code",
   "execution_count": null,
   "id": "checked-country",
   "metadata": {},
   "outputs": [
    {
     "name": "stdout",
     "output_type": "stream",
     "text": [
      "https://app.neptune.ai/puneetgirdhar.in/charnn/e/CHAR-33\n"
     ]
    },
    {
     "name": "stderr",
     "output_type": "stream",
     "text": [
      "\n",
      "  | Name      | Type             | Params\n",
      "-----------------------------------------------\n",
      "0 | dropout   | Dropout          | 0     \n",
      "1 | embedding | Embedding        | 3.1 K \n",
      "2 | rnn       | LSTM             | 1.1 M \n",
      "3 | decoder   | Linear           | 31.3 K\n",
      "4 | criterion | CrossEntropyLoss | 0     \n",
      "-----------------------------------------------\n",
      "1.2 M     Trainable params\n",
      "0         Non-trainable params\n",
      "1.2 M     Total params\n",
      "4.621     Total estimated model params size (MB)\n"
     ]
    },
    {
     "data": {
      "application/vnd.jupyter.widget-view+json": {
       "model_id": "",
       "version_major": 2,
       "version_minor": 0
      },
      "text/plain": [
       "HBox(children=(HTML(value='Validation sanity check'), FloatProgress(value=1.0, bar_style='info', layout=Layout…"
      ]
     },
     "metadata": {},
     "output_type": "display_data"
    },
    {
     "name": "stdout",
     "output_type": "stream",
     "text": [
      "{'A': 'AÎहÜÍxxrepxxfakeĢĲहYPशFसÐ', 'B': 'BxxfakeĚŻĖVxxfldŐĂŅĞSČÔÃxxunk', 'R': 'RPŻĲWxxbosZŤÏÔRJYयCF', 'KAR': 'KARxxrepSŁĖZÁÖŽVĂÏxxupÜरŇ', 'TE': 'TEĲČÊŽĖŐÊVAĪÈÐश', 'CHRI': 'CHRIJŤŪOxxrepHŞŤAĂबÜxxunkÌÚ'}\n"
     ]
    },
    {
     "data": {
      "application/vnd.jupyter.widget-view+json": {
       "model_id": "b7ac69184bfc458c8585b38e0dd8ae48",
       "version_major": 2,
       "version_minor": 0
      },
      "text/plain": [
       "HBox(children=(HTML(value='Training'), FloatProgress(value=1.0, bar_style='info', layout=Layout(flex='2'), max…"
      ]
     },
     "metadata": {},
     "output_type": "display_data"
    },
    {
     "data": {
      "application/vnd.jupyter.widget-view+json": {
       "model_id": "",
       "version_major": 2,
       "version_minor": 0
      },
      "text/plain": [
       "HBox(children=(HTML(value='Validating'), FloatProgress(value=1.0, bar_style='info', layout=Layout(flex='2'), m…"
      ]
     },
     "metadata": {},
     "output_type": "display_data"
    },
    {
     "name": "stdout",
     "output_type": "stream",
     "text": [
      "{'A': 'AĚYAH', 'B': 'BBE', 'R': 'REMIE', 'KAR': 'KARLYN', 'TE': 'TEYON', 'CHRI': 'CHRILKEB'}\n"
     ]
    },
    {
     "data": {
      "application/vnd.jupyter.widget-view+json": {
       "model_id": "",
       "version_major": 2,
       "version_minor": 0
      },
      "text/plain": [
       "HBox(children=(HTML(value='Validating'), FloatProgress(value=1.0, bar_style='info', layout=Layout(flex='2'), m…"
      ]
     },
     "metadata": {},
     "output_type": "display_data"
    },
    {
     "name": "stdout",
     "output_type": "stream",
     "text": [
      "{'A': 'AरN', 'B': 'BEAGAN', 'R': 'RÁTZ', 'KAR': 'KARTO', 'TE': 'TEF', 'CHRI': 'CHRINER'}\n"
     ]
    },
    {
     "data": {
      "application/vnd.jupyter.widget-view+json": {
       "model_id": "",
       "version_major": 2,
       "version_minor": 0
      },
      "text/plain": [
       "HBox(children=(HTML(value='Validating'), FloatProgress(value=1.0, bar_style='info', layout=Layout(flex='2'), m…"
      ]
     },
     "metadata": {},
     "output_type": "display_data"
    },
    {
     "name": "stdout",
     "output_type": "stream",
     "text": [
      "{'A': 'AHER', 'B': 'BAXI', 'R': 'RCPEE', 'KAR': 'KARYA', 'TE': 'TEDA', 'CHRI': 'CHRISTOFER'}\n"
     ]
    },
    {
     "data": {
      "application/vnd.jupyter.widget-view+json": {
       "model_id": "",
       "version_major": 2,
       "version_minor": 0
      },
      "text/plain": [
       "HBox(children=(HTML(value='Validating'), FloatProgress(value=1.0, bar_style='info', layout=Layout(flex='2'), m…"
      ]
     },
     "metadata": {},
     "output_type": "display_data"
    },
    {
     "name": "stdout",
     "output_type": "stream",
     "text": [
      "{'A': 'ADHIR', 'B': 'BAÞĢ', 'R': 'RŢA', 'KAR': 'KAR', 'TE': 'TEGEEN', 'CHRI': 'CHRISEPHER'}\n"
     ]
    },
    {
     "data": {
      "application/vnd.jupyter.widget-view+json": {
       "model_id": "",
       "version_major": 2,
       "version_minor": 0
      },
      "text/plain": [
       "HBox(children=(HTML(value='Validating'), FloatProgress(value=1.0, bar_style='info', layout=Layout(flex='2'), m…"
      ]
     },
     "metadata": {},
     "output_type": "display_data"
    },
    {
     "name": "stdout",
     "output_type": "stream",
     "text": [
      "{'A': 'AÁS', 'B': 'BYDEEN', 'R': 'RČH', 'KAR': 'KARI', 'TE': 'TEĖ', 'CHRI': 'CHRISHUA'}\n"
     ]
    },
    {
     "data": {
      "application/vnd.jupyter.widget-view+json": {
       "model_id": "",
       "version_major": 2,
       "version_minor": 0
      },
      "text/plain": [
       "HBox(children=(HTML(value='Validating'), FloatProgress(value=1.0, bar_style='info', layout=Layout(flex='2'), m…"
      ]
     },
     "metadata": {},
     "output_type": "display_data"
    },
    {
     "name": "stdout",
     "output_type": "stream",
     "text": [
      "{'A': 'ALJT', 'B': 'BYTLAUGH', 'R': 'RŻ', 'KAR': 'KARINE', 'TE': 'TESSOPHE', 'CHRI': 'CHRISPOTH'}\n"
     ]
    },
    {
     "data": {
      "application/vnd.jupyter.widget-view+json": {
       "model_id": "",
       "version_major": 2,
       "version_minor": 0
      },
      "text/plain": [
       "HBox(children=(HTML(value='Validating'), FloatProgress(value=1.0, bar_style='info', layout=Layout(flex='2'), m…"
      ]
     },
     "metadata": {},
     "output_type": "display_data"
    },
    {
     "name": "stdout",
     "output_type": "stream",
     "text": [
      "{'A': 'AMIRA', 'B': 'BOX', 'R': 'RVÂET', 'KAR': 'KARRAH', 'TE': 'TE', 'CHRI': 'CHRISTINNA'}\n"
     ]
    },
    {
     "data": {
      "application/vnd.jupyter.widget-view+json": {
       "model_id": "",
       "version_major": 2,
       "version_minor": 0
      },
      "text/plain": [
       "HBox(children=(HTML(value='Validating'), FloatProgress(value=1.0, bar_style='info', layout=Layout(flex='2'), m…"
      ]
     },
     "metadata": {},
     "output_type": "display_data"
    },
    {
     "name": "stdout",
     "output_type": "stream",
     "text": [
      "{'A': 'AMBER', 'B': 'BRITTA', 'R': 'RŽ', 'KAR': 'KARO', 'TE': 'TELLI', 'CHRI': 'CHRISTOFORO'}\n"
     ]
    },
    {
     "data": {
      "application/vnd.jupyter.widget-view+json": {
       "model_id": "",
       "version_major": 2,
       "version_minor": 0
      },
      "text/plain": [
       "HBox(children=(HTML(value='Validating'), FloatProgress(value=1.0, bar_style='info', layout=Layout(flex='2'), m…"
      ]
     },
     "metadata": {},
     "output_type": "display_data"
    },
    {
     "name": "stdout",
     "output_type": "stream",
     "text": [
      "{'A': 'AZIN', 'B': 'BERCIO', 'R': 'RŞIM', 'KAR': 'KAR', 'TE': 'TEISHA', 'CHRI': 'CHRISTOPHAROUS'}\n"
     ]
    },
    {
     "data": {
      "application/vnd.jupyter.widget-view+json": {
       "model_id": "",
       "version_major": 2,
       "version_minor": 0
      },
      "text/plain": [
       "HBox(children=(HTML(value='Validating'), FloatProgress(value=1.0, bar_style='info', layout=Layout(flex='2'), m…"
      ]
     },
     "metadata": {},
     "output_type": "display_data"
    },
    {
     "name": "stdout",
     "output_type": "stream",
     "text": [
      "{'A': 'ABRĪELLE', 'B': 'BUSH', 'R': 'RŢĞÂURG', 'KAR': 'KARTIM', 'TE': 'TEBORY', 'CHRI': 'CHRISTOPHER'}\n"
     ]
    },
    {
     "data": {
      "application/vnd.jupyter.widget-view+json": {
       "model_id": "",
       "version_major": 2,
       "version_minor": 0
      },
      "text/plain": [
       "HBox(children=(HTML(value='Validating'), FloatProgress(value=1.0, bar_style='info', layout=Layout(flex='2'), m…"
      ]
     },
     "metadata": {},
     "output_type": "display_data"
    },
    {
     "name": "stdout",
     "output_type": "stream",
     "text": [
      "{'A': 'AÕ', 'B': 'BOÐLR', 'R': 'RĀQAR', 'KAR': 'KARYS', 'TE': 'TE', 'CHRI': 'CHRISTIANA'}\n"
     ]
    },
    {
     "data": {
      "application/vnd.jupyter.widget-view+json": {
       "model_id": "",
       "version_major": 2,
       "version_minor": 0
      },
      "text/plain": [
       "HBox(children=(HTML(value='Validating'), FloatProgress(value=1.0, bar_style='info', layout=Layout(flex='2'), m…"
      ]
     },
     "metadata": {},
     "output_type": "display_data"
    },
    {
     "name": "stdout",
     "output_type": "stream",
     "text": [
      "{'A': 'AĢIGASIALO', 'B': 'BĢEWRAN', 'R': 'RŢĞERG', 'KAR': 'KARBJÖRG', 'TE': 'TE', 'CHRI': 'CHRISPUNDER'}\n"
     ]
    },
    {
     "data": {
      "application/vnd.jupyter.widget-view+json": {
       "model_id": "",
       "version_major": 2,
       "version_minor": 0
      },
      "text/plain": [
       "HBox(children=(HTML(value='Validating'), FloatProgress(value=1.0, bar_style='info', layout=Layout(flex='2'), m…"
      ]
     },
     "metadata": {},
     "output_type": "display_data"
    },
    {
     "name": "stdout",
     "output_type": "stream",
     "text": [
      "{'A': 'AYSHU', 'B': 'BEK', 'R': 'RNTĞÐUR', 'KAR': 'KARLEYSA', 'TE': 'TEFACHO', 'CHRI': 'CHRISTIANA'}\n"
     ]
    },
    {
     "data": {
      "application/vnd.jupyter.widget-view+json": {
       "model_id": "",
       "version_major": 2,
       "version_minor": 0
      },
      "text/plain": [
       "HBox(children=(HTML(value='Validating'), FloatProgress(value=1.0, bar_style='info', layout=Layout(flex='2'), m…"
      ]
     },
     "metadata": {},
     "output_type": "display_data"
    },
    {
     "name": "stdout",
     "output_type": "stream",
     "text": [
      "{'A': 'AŞ', 'B': 'BYGALL', 'R': 'RŢĞRÍÐUR', 'KAR': 'KARPA', 'TE': 'TE', 'CHRI': 'CHRISSE'}\n"
     ]
    },
    {
     "data": {
      "application/vnd.jupyter.widget-view+json": {
       "model_id": "",
       "version_major": 2,
       "version_minor": 0
      },
      "text/plain": [
       "HBox(children=(HTML(value='Validating'), FloatProgress(value=1.0, bar_style='info', layout=Layout(flex='2'), m…"
      ]
     },
     "metadata": {},
     "output_type": "display_data"
    },
    {
     "name": "stdout",
     "output_type": "stream",
     "text": [
      "{'A': 'AमFRYD', 'B': 'BBÂKA', 'R': 'RÚDS', 'KAR': 'KARLO', 'TE': 'TESWARAN', 'CHRI': 'CHRISTIANJAMES'}\n"
     ]
    },
    {
     "data": {
      "application/vnd.jupyter.widget-view+json": {
       "model_id": "",
       "version_major": 2,
       "version_minor": 0
      },
      "text/plain": [
       "HBox(children=(HTML(value='Validating'), FloatProgress(value=1.0, bar_style='info', layout=Layout(flex='2'), m…"
      ]
     },
     "metadata": {},
     "output_type": "display_data"
    },
    {
     "name": "stdout",
     "output_type": "stream",
     "text": [
      "{'A': 'A', 'B': 'BJÖRN', 'R': 'RलD', 'KAR': 'KARSHAN', 'TE': 'TERIE', 'CHRI': 'CHRISTALIN'}\n"
     ]
    },
    {
     "data": {
      "application/vnd.jupyter.widget-view+json": {
       "model_id": "",
       "version_major": 2,
       "version_minor": 0
      },
      "text/plain": [
       "HBox(children=(HTML(value='Validating'), FloatProgress(value=1.0, bar_style='info', layout=Layout(flex='2'), m…"
      ]
     },
     "metadata": {},
     "output_type": "display_data"
    },
    {
     "name": "stdout",
     "output_type": "stream",
     "text": [
      "{'A': 'AHN', 'B': 'BJÖRT', 'R': 'RÓD', 'KAR': 'KARLISHA', 'TE': 'TERMAN', 'CHRI': 'CHRISTOPHER'}\n"
     ]
    },
    {
     "data": {
      "application/vnd.jupyter.widget-view+json": {
       "model_id": "43abec6bb12b4a0f8ef6c52e635929ad",
       "version_major": 2,
       "version_minor": 0
      },
      "text/plain": [
       "HBox(children=(HTML(value='Validating'), FloatProgress(value=1.0, bar_style='info', layout=Layout(flex='2'), m…"
      ]
     },
     "metadata": {},
     "output_type": "display_data"
    }
   ],
   "source": [
    "trainer.fit(model, dls.train, dls.valid)"
   ]
  },
  {
   "cell_type": "markdown",
   "id": "choice-speaker",
   "metadata": {},
   "source": [
    "# Evaluation"
   ]
  },
  {
   "cell_type": "markdown",
   "id": "powerful-junior",
   "metadata": {},
   "source": [
    "Now, we can generate some names randomly"
   ]
  },
  {
   "cell_type": "code",
   "execution_count": null,
   "id": "affiliated-lafayette",
   "metadata": {},
   "outputs": [
    {
     "data": {
      "text/plain": [
       "'AÓÁजÖÞXxxupxxfakexxwrepHĻÚĻÌÝ'"
      ]
     },
     "execution_count": null,
     "metadata": {},
     "output_type": "execute_result"
    }
   ],
   "source": [
    "trainer.gen_name(\"A\")"
   ]
  },
  {
   "cell_type": "code",
   "execution_count": null,
   "id": "changed-incident",
   "metadata": {},
   "outputs": [
    {
     "name": "stderr",
     "output_type": "stream",
     "text": [
      "GPU available: True, used: True\n",
      "TPU available: None, using: 0 TPU cores\n"
     ]
    },
    {
     "data": {
      "text/plain": [
       "<pytorch_lightning.trainer.trainer.Trainer at 0x7f4464aafdf0>"
      ]
     },
     "execution_count": null,
     "metadata": {},
     "output_type": "execute_result"
    }
   ],
   "source": [
    "train_from_scratch(names_list, hparams)"
   ]
  },
  {
   "cell_type": "code",
   "execution_count": null,
   "id": "waiting-astrology",
   "metadata": {},
   "outputs": [],
   "source": []
  }
 ],
 "metadata": {
  "kernelspec": {
   "display_name": "Python 3",
   "language": "python",
   "name": "python3"
  }
 },
 "nbformat": 4,
 "nbformat_minor": 5
}
